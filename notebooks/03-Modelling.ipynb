{
 "cells": [
  {
   "cell_type": "markdown",
   "id": "578fdd58-b896-4eed-a8f7-232022b2f748",
   "metadata": {},
   "source": [
    "# Titanic Survival Prediction Project"
   ]
  },
  {
   "cell_type": "markdown",
   "id": "eb3879d5-ee77-4a1d-9bd8-cb044195e142",
   "metadata": {},
   "source": [
    "## 4. Modeling\n",
    "We train a Random Forest classifier to predict survival and evaluate its performance."
   ]
  },
  {
   "cell_type": "code",
   "execution_count": 26,
   "id": "ffa14d4d-4683-45fc-820f-e1e94363ee23",
   "metadata": {},
   "outputs": [],
   "source": [
    "\n",
    "import pandas as pd\n",
    "import numpy as np\n",
    "from sklearn.model_selection import train_test_split\n",
    "from sklearn.linear_model import LogisticRegression\n",
    "from sklearn.ensemble import RandomForestClassifier\n",
    "from sklearn.impute import SimpleImputer\n",
    "from sklearn.svm import SVC\n",
    "from sklearn.metrics import accuracy_score, confusion_matrix, classification_report\n",
    "import matplotlib.pyplot as plt\n",
    "import seaborn as sns\n",
    "import joblib\n",
    "from ipywidgets import interact, IntSlider, Dropdown\n",
    "from IPython.display import display\n",
    "import warnings\n",
    "\n",
    "warnings.filterwarnings(\"ignore\", category=UserWarning, module=\"sklearn\")"
   ]
  },
  {
   "cell_type": "markdown",
   "id": "579af368-e405-45f5-9c0d-43709033c087",
   "metadata": {},
   "source": [
    "1. We first load our test and training data "
   ]
  },
  {
   "cell_type": "code",
   "execution_count": 27,
   "id": "f71902ea-26f0-43eb-80fb-a05cc32e9322",
   "metadata": {},
   "outputs": [],
   "source": [
    "test_data = pd.read_csv(\"../data/raw/test.csv\")\n",
    "train_data = pd.read_csv(\"../data/raw/train.csv\")"
   ]
  },
  {
   "cell_type": "markdown",
   "id": "8aa51431-564c-45bc-bdee-d2b8fa0732ae",
   "metadata": {},
   "source": [
    "2. We can use the preprocessing function we created earlier to clean and process our data"
   ]
  },
  {
   "cell_type": "code",
   "execution_count": null,
   "id": "ab994e92-4608-4513-8287-9d8d14181fdb",
   "metadata": {},
   "outputs": [],
   "source": [
    "def titanic_preprocess(df):\n",
    "    # 1. Fill missing Age with median age\n",
    "    median_age = df['Age'].median()\n",
    "    df['Age'].fillna(median_age, inplace=True)\n",
    "\n",
    "    # 2. Fill missing Embarked with mode (most common)\n",
    "    mode_embarked = df['Embarked'].mode()[0]\n",
    "    df['Embarked'].fillna(mode_embarked, inplace=True)\n",
    "\n",
    "    # 3. Fill missing Fare (only in test set) with median Fare\n",
    "    if 'Fare' in df.columns:\n",
    "        df['Fare'].fillna(df['Fare'].median(), inplace=True)\n",
    "\n",
    "    # 4. Convert Sex to numbers: male=0, female=1\n",
    "    df['Sex'] = df['Sex'].map({'male': 0, 'female': 1})\n",
    "\n",
    "    # 5. Convert Embarked to numbers: C=0, Q=1, S=2\n",
    "    df['Embarked'] = df['Embarked'].map({'C': 0, 'Q': 1, 'S': 2})\n",
    "\n",
    "    # 6. Create combined Sex_Pclass feature (e.g., '1_0' means female 1st class)\n",
    "    df['Sex_Pclass'] = df['Sex'].astype(str) + '_' + df['Pclass'].astype(str)\n",
    "\n",
    "    # 7. Drop unnecessary columns\n",
    "    df.drop(['Name', 'Ticket', 'Cabin'], axis=1, inplace=True, errors='ignore')\n",
    "\n",
    "    return df\n"
   ]
  },
  {
   "cell_type": "code",
   "execution_count": 29,
   "id": "bbfad443-fed8-48ca-9266-1c45b9b3d680",
   "metadata": {},
   "outputs": [],
   "source": [
    "clean_test = titanic_preprocess(test_data)\n",
    "clean_train = titanic_preprocess(train_data)"
   ]
  },
  {
   "cell_type": "code",
   "execution_count": 30,
   "id": "7340299d-12bb-428f-83b1-04926b4ea854",
   "metadata": {},
   "outputs": [
    {
     "name": "stdout",
     "output_type": "stream",
     "text": [
      "<class 'pandas.core.frame.DataFrame'>\n",
      "RangeIndex: 418 entries, 0 to 417\n",
      "Data columns (total 9 columns):\n",
      " #   Column       Non-Null Count  Dtype  \n",
      "---  ------       --------------  -----  \n",
      " 0   PassengerId  418 non-null    int64  \n",
      " 1   Pclass       418 non-null    int64  \n",
      " 2   Sex          418 non-null    int64  \n",
      " 3   Age          418 non-null    float64\n",
      " 4   SibSp        418 non-null    int64  \n",
      " 5   Parch        418 non-null    int64  \n",
      " 6   Fare         418 non-null    float64\n",
      " 7   Embarked     418 non-null    int64  \n",
      " 8   Sex_Pclass   418 non-null    object \n",
      "dtypes: float64(2), int64(6), object(1)\n",
      "memory usage: 29.5+ KB\n"
     ]
    }
   ],
   "source": [
    "\n",
    "clean_test.info()\n"
   ]
  },
  {
   "cell_type": "markdown",
   "id": "9b0b7188-dd41-465f-86a8-ccceb00c8e73",
   "metadata": {},
   "source": [
    "3. We then select the features we want to use to train our model. Which is every column in our clean_train dataset except our \"Survived\" column since it is what we are training our model to predict"
   ]
  },
  {
   "cell_type": "code",
   "execution_count": 31,
   "id": "e2ffc043-7d0a-48fd-9e24-5c65a56b3b8b",
   "metadata": {},
   "outputs": [],
   "source": [
    "#Features\n",
    "\n",
    "X = clean_train.drop('Survived', axis=1)\n",
    "y = clean_train['Survived']"
   ]
  },
  {
   "cell_type": "markdown",
   "id": "9e91aeb2-268a-489a-9149-6dce716cfb63",
   "metadata": {},
   "source": [
    "4. We then build our model with RandomForest and then fit it"
   ]
  },
  {
   "cell_type": "code",
   "execution_count": 32,
   "id": "103689a3-2d9e-4297-a0b4-f7d5ec31f7d3",
   "metadata": {},
   "outputs": [
    {
     "data": {
      "text/html": [
       "<style>#sk-container-id-2 {color: black;}#sk-container-id-2 pre{padding: 0;}#sk-container-id-2 div.sk-toggleable {background-color: white;}#sk-container-id-2 label.sk-toggleable__label {cursor: pointer;display: block;width: 100%;margin-bottom: 0;padding: 0.3em;box-sizing: border-box;text-align: center;}#sk-container-id-2 label.sk-toggleable__label-arrow:before {content: \"▸\";float: left;margin-right: 0.25em;color: #696969;}#sk-container-id-2 label.sk-toggleable__label-arrow:hover:before {color: black;}#sk-container-id-2 div.sk-estimator:hover label.sk-toggleable__label-arrow:before {color: black;}#sk-container-id-2 div.sk-toggleable__content {max-height: 0;max-width: 0;overflow: hidden;text-align: left;background-color: #f0f8ff;}#sk-container-id-2 div.sk-toggleable__content pre {margin: 0.2em;color: black;border-radius: 0.25em;background-color: #f0f8ff;}#sk-container-id-2 input.sk-toggleable__control:checked~div.sk-toggleable__content {max-height: 200px;max-width: 100%;overflow: auto;}#sk-container-id-2 input.sk-toggleable__control:checked~label.sk-toggleable__label-arrow:before {content: \"▾\";}#sk-container-id-2 div.sk-estimator input.sk-toggleable__control:checked~label.sk-toggleable__label {background-color: #d4ebff;}#sk-container-id-2 div.sk-label input.sk-toggleable__control:checked~label.sk-toggleable__label {background-color: #d4ebff;}#sk-container-id-2 input.sk-hidden--visually {border: 0;clip: rect(1px 1px 1px 1px);clip: rect(1px, 1px, 1px, 1px);height: 1px;margin: -1px;overflow: hidden;padding: 0;position: absolute;width: 1px;}#sk-container-id-2 div.sk-estimator {font-family: monospace;background-color: #f0f8ff;border: 1px dotted black;border-radius: 0.25em;box-sizing: border-box;margin-bottom: 0.5em;}#sk-container-id-2 div.sk-estimator:hover {background-color: #d4ebff;}#sk-container-id-2 div.sk-parallel-item::after {content: \"\";width: 100%;border-bottom: 1px solid gray;flex-grow: 1;}#sk-container-id-2 div.sk-label:hover label.sk-toggleable__label {background-color: #d4ebff;}#sk-container-id-2 div.sk-serial::before {content: \"\";position: absolute;border-left: 1px solid gray;box-sizing: border-box;top: 0;bottom: 0;left: 50%;z-index: 0;}#sk-container-id-2 div.sk-serial {display: flex;flex-direction: column;align-items: center;background-color: white;padding-right: 0.2em;padding-left: 0.2em;position: relative;}#sk-container-id-2 div.sk-item {position: relative;z-index: 1;}#sk-container-id-2 div.sk-parallel {display: flex;align-items: stretch;justify-content: center;background-color: white;position: relative;}#sk-container-id-2 div.sk-item::before, #sk-container-id-2 div.sk-parallel-item::before {content: \"\";position: absolute;border-left: 1px solid gray;box-sizing: border-box;top: 0;bottom: 0;left: 50%;z-index: -1;}#sk-container-id-2 div.sk-parallel-item {display: flex;flex-direction: column;z-index: 1;position: relative;background-color: white;}#sk-container-id-2 div.sk-parallel-item:first-child::after {align-self: flex-end;width: 50%;}#sk-container-id-2 div.sk-parallel-item:last-child::after {align-self: flex-start;width: 50%;}#sk-container-id-2 div.sk-parallel-item:only-child::after {width: 0;}#sk-container-id-2 div.sk-dashed-wrapped {border: 1px dashed gray;margin: 0 0.4em 0.5em 0.4em;box-sizing: border-box;padding-bottom: 0.4em;background-color: white;}#sk-container-id-2 div.sk-label label {font-family: monospace;font-weight: bold;display: inline-block;line-height: 1.2em;}#sk-container-id-2 div.sk-label-container {text-align: center;}#sk-container-id-2 div.sk-container {/* jupyter's `normalize.less` sets `[hidden] { display: none; }` but bootstrap.min.css set `[hidden] { display: none !important; }` so we also need the `!important` here to be able to override the default hidden behavior on the sphinx rendered scikit-learn.org. See: https://github.com/scikit-learn/scikit-learn/issues/21755 */display: inline-block !important;position: relative;}#sk-container-id-2 div.sk-text-repr-fallback {display: none;}</style><div id=\"sk-container-id-2\" class=\"sk-top-container\"><div class=\"sk-text-repr-fallback\"><pre>RandomForestClassifier(random_state=42)</pre><b>In a Jupyter environment, please rerun this cell to show the HTML representation or trust the notebook. <br />On GitHub, the HTML representation is unable to render, please try loading this page with nbviewer.org.</b></div><div class=\"sk-container\" hidden><div class=\"sk-item\"><div class=\"sk-estimator sk-toggleable\"><input class=\"sk-toggleable__control sk-hidden--visually\" id=\"sk-estimator-id-2\" type=\"checkbox\" checked><label for=\"sk-estimator-id-2\" class=\"sk-toggleable__label sk-toggleable__label-arrow\">RandomForestClassifier</label><div class=\"sk-toggleable__content\"><pre>RandomForestClassifier(random_state=42)</pre></div></div></div></div></div>"
      ],
      "text/plain": [
       "RandomForestClassifier(random_state=42)"
      ]
     },
     "execution_count": 32,
     "metadata": {},
     "output_type": "execute_result"
    }
   ],
   "source": [
    "#model\n",
    "\n",
    "model = RandomForestClassifier(random_state=42)\n",
    "model.fit(X, y)"
   ]
  },
  {
   "cell_type": "markdown",
   "id": "34f7d723-a501-431c-95b8-a57da094bf76",
   "metadata": {},
   "source": [
    "5. We then use our model to predict if a passenger in the \"clean_test\" dataset survived or not"
   ]
  },
  {
   "cell_type": "code",
   "execution_count": 33,
   "id": "94a96c88-e6ee-433a-8ea9-5dd83e464bc2",
   "metadata": {},
   "outputs": [],
   "source": [
    "X_test = clean_test[X.columns]"
   ]
  },
  {
   "cell_type": "code",
   "execution_count": 34,
   "id": "398f2a9a-5d83-466e-b396-491454ff9cea",
   "metadata": {},
   "outputs": [],
   "source": [
    "test_predictions = model.predict(X_test)"
   ]
  },
  {
   "cell_type": "code",
   "execution_count": 35,
   "id": "3a3ea355-37f2-4fd3-b5bb-2b0d79d6d00b",
   "metadata": {},
   "outputs": [
    {
     "data": {
      "text/html": [
       "<div>\n",
       "<style scoped>\n",
       "    .dataframe tbody tr th:only-of-type {\n",
       "        vertical-align: middle;\n",
       "    }\n",
       "\n",
       "    .dataframe tbody tr th {\n",
       "        vertical-align: top;\n",
       "    }\n",
       "\n",
       "    .dataframe thead th {\n",
       "        text-align: right;\n",
       "    }\n",
       "</style>\n",
       "<table border=\"1\" class=\"dataframe\">\n",
       "  <thead>\n",
       "    <tr style=\"text-align: right;\">\n",
       "      <th></th>\n",
       "      <th>PassengerId</th>\n",
       "      <th>Pclass</th>\n",
       "      <th>Sex</th>\n",
       "      <th>Age</th>\n",
       "      <th>SibSp</th>\n",
       "      <th>Parch</th>\n",
       "      <th>Fare</th>\n",
       "      <th>Embarked</th>\n",
       "      <th>Sex_Pclass</th>\n",
       "    </tr>\n",
       "  </thead>\n",
       "  <tbody>\n",
       "    <tr>\n",
       "      <th>0</th>\n",
       "      <td>892</td>\n",
       "      <td>3</td>\n",
       "      <td>0</td>\n",
       "      <td>34.5</td>\n",
       "      <td>0</td>\n",
       "      <td>0</td>\n",
       "      <td>7.8292</td>\n",
       "      <td>1</td>\n",
       "      <td>0_3</td>\n",
       "    </tr>\n",
       "    <tr>\n",
       "      <th>1</th>\n",
       "      <td>893</td>\n",
       "      <td>3</td>\n",
       "      <td>1</td>\n",
       "      <td>47.0</td>\n",
       "      <td>1</td>\n",
       "      <td>0</td>\n",
       "      <td>7.0000</td>\n",
       "      <td>2</td>\n",
       "      <td>1_3</td>\n",
       "    </tr>\n",
       "    <tr>\n",
       "      <th>2</th>\n",
       "      <td>894</td>\n",
       "      <td>2</td>\n",
       "      <td>0</td>\n",
       "      <td>62.0</td>\n",
       "      <td>0</td>\n",
       "      <td>0</td>\n",
       "      <td>9.6875</td>\n",
       "      <td>1</td>\n",
       "      <td>0_2</td>\n",
       "    </tr>\n",
       "    <tr>\n",
       "      <th>3</th>\n",
       "      <td>895</td>\n",
       "      <td>3</td>\n",
       "      <td>0</td>\n",
       "      <td>27.0</td>\n",
       "      <td>0</td>\n",
       "      <td>0</td>\n",
       "      <td>8.6625</td>\n",
       "      <td>2</td>\n",
       "      <td>0_3</td>\n",
       "    </tr>\n",
       "    <tr>\n",
       "      <th>4</th>\n",
       "      <td>896</td>\n",
       "      <td>3</td>\n",
       "      <td>1</td>\n",
       "      <td>22.0</td>\n",
       "      <td>1</td>\n",
       "      <td>1</td>\n",
       "      <td>12.2875</td>\n",
       "      <td>2</td>\n",
       "      <td>1_3</td>\n",
       "    </tr>\n",
       "  </tbody>\n",
       "</table>\n",
       "</div>"
      ],
      "text/plain": [
       "   PassengerId  Pclass  Sex   Age  SibSp  Parch     Fare  Embarked Sex_Pclass\n",
       "0          892       3    0  34.5      0      0   7.8292         1        0_3\n",
       "1          893       3    1  47.0      1      0   7.0000         2        1_3\n",
       "2          894       2    0  62.0      0      0   9.6875         1        0_2\n",
       "3          895       3    0  27.0      0      0   8.6625         2        0_3\n",
       "4          896       3    1  22.0      1      1  12.2875         2        1_3"
      ]
     },
     "execution_count": 35,
     "metadata": {},
     "output_type": "execute_result"
    }
   ],
   "source": [
    "test_data.head()"
   ]
  },
  {
   "cell_type": "markdown",
   "id": "8eb7f95e-dba3-4f9b-9180-efcf8dc8790a",
   "metadata": {},
   "source": [
    "We then created a model_prediction file which has the prediction for each passenger. It contains the passengerId and the prediction for the passenger. i.e if he or she survived or not.\n",
    "We have 1 for survived and 0 for did not survive"
   ]
  },
  {
   "cell_type": "code",
   "execution_count": 36,
   "id": "0980c962-09a0-4a00-ba56-9459a90a0e88",
   "metadata": {},
   "outputs": [],
   "source": [
    "model_prediction = pd.DataFrame({\n",
    "    'PassengerId': test_data['PassengerId'],\n",
    "    'Survived': test_predictions\n",
    "})\n"
   ]
  },
  {
   "cell_type": "code",
   "execution_count": 37,
   "id": "479966fa-e680-4286-ae6c-80967dc48ebf",
   "metadata": {},
   "outputs": [],
   "source": [
    "model_prediction.to_csv('model_prediction.csv', index=False)\n"
   ]
  },
  {
   "cell_type": "markdown",
   "id": "25b53e92-24ff-49f7-acec-7b2878b5cade",
   "metadata": {},
   "source": [
    "Evaluating the accuracy of our model using the accuracy score and confusion matrix.\n",
    "Our model shows good performance, with an accuracy of 82.7%\n",
    "Our confusion matrix produced the following:\n",
    "- True Negatives (92): 92 passengers who didn’t survive were correctly predicted.\n",
    "\n",
    "- False Positives (13): 13 passengers were predicted to survive but didn’t.\n",
    "\n",
    "- False Negatives (18): 18 passengers were predicted not to survive but did.\n",
    "\n",
    "- True Positives (56): 56 passengers who survived were correctly predicted.-\n",
    "\n",
    "N.B: this was when i split my train set 80-20 to evaluate my model and i had those "
   ]
  },
  {
   "cell_type": "markdown",
   "id": "32488688-ab86-4a28-82df-d897aa3df6d2",
   "metadata": {},
   "source": [
    "We then made a Feature Importance plot to see which features contributed most to survival prediction.\n",
    "We can see that \"Fare\" paid the highest while \"Embarked\" Paid the least\n",
    "\n",
    "So buying a ticket with higher fare increases your chances of survival and being the younger you are the more likely you are to survive :)"
   ]
  },
  {
   "cell_type": "code",
   "execution_count": null,
   "id": "c11b3222-c9cf-4cfc-ac6b-196edadac684",
   "metadata": {},
   "outputs": [],
   "source": [
    "\n",
    "feature_importance = model.feature_importances_\n",
    "features = X.columns\n",
    "\n",
    "importance_df = pd.DataFrame({'Feature': features, 'Importance': feature_importance})\n",
    "importance_df = importance_df.sort_values(by='Importance', ascending=False)\n",
    "\n",
    "plt.figure(figsize=(10,6))\n",
    "plt.bar(importance_df['Feature'], importance_df['Importance'])\n",
    "plt.title('Feature Importance')\n",
    "plt.xlabel('Features')\n",
    "plt.ylabel('Importance Score')\n",
    "plt.xticks(rotation=45)\n",
    "plt.tight_layout()\n",
    "plt.show()\n"
   ]
  },
  {
   "cell_type": "markdown",
   "id": "8a2614df-3958-4115-a888-9eab671b9c44",
   "metadata": {},
   "source": [
    "## A small interface to help predict if a passenger survived or not :)"
   ]
  },
  {
   "cell_type": "markdown",
   "id": "9bd966c1-708d-4938-ae92-d1e5d06c17f4",
   "metadata": {},
   "source": []
  },
  {
   "cell_type": "code",
   "execution_count": null,
   "id": "0f15f8f7-dc5d-4434-9112-b1234a9fd508",
   "metadata": {},
   "outputs": [],
   "source": [
    "\n",
    "# 1. PREDICTION FUNCTION \n",
    "def predict_survival(pclass, sex, age, sibsp, parch, fare, embarked):\n",
    "    input_data = pd.DataFrame({\n",
    "        'PassengerId': [999],  # Dummy ID\n",
    "        'Pclass': [pclass], \n",
    "        'Sex': [1 if sex == \"Male\" else 0],\n",
    "        'Age': [age],\n",
    "        'SibSp': [sibsp],\n",
    "        'Parch': [parch],      \n",
    "        'Fare': [fare],\n",
    "        'Embarked': [embarked],\n",
    "        'Sex_Pclass': [f\"{1 if sex == 'Male' else 0}_{pclass}\"] \n",
    "    })\n",
    "    \n",
    "    print(\"Input features being sent to model:\")\n",
    "    print(input_data.columns.tolist())\n",
    "    \n",
    "    try:\n",
    "        prediction = model.predict(input_data)[0]\n",
    "        proba = model.predict_proba(input_data)[0][1] * 100\n",
    "        with output_area:\n",
    "            output_area.clear_output()\n",
    "            print(f\"Survival probability: {proba:.1f}%\")\n",
    "            print(\"Survived :)\" if prediction == 1 else \"Did not survive :(\")\n",
    "    except Exception as e:\n",
    "        with output_area:\n",
    "            output_area.clear_output()\n",
    "            print(f\"⚠️ Error: {str(e)}\")\n",
    "            print(\"Check if your model expects these features:\")\n",
    "            print(input_data.columns.tolist())\n",
    "\n",
    "# 2. WIDGETS \n",
    "pclass = widgets.Dropdown(options=[1, 2, 3], value=3, description='Ticket class:')\n",
    "sex = widgets.Dropdown(options=[\"Female\", \"Male\"], value=\"Male\", description='Sex:')\n",
    "age = widgets.FloatSlider(min=0, max=80, value=30, step=0.5, description='Age:')\n",
    "sibsp = widgets.IntSlider(min=0, max=8, value=0, description='# of siblings:')\n",
    "parch = widgets.IntSlider(min=0, max=6, value=0, description='# of parents/children:')\n",
    "fare = widgets.FloatSlider(min=0, max=300, value=7.83, step=0.01, description='Fare:')\n",
    "embarked = widgets.Dropdown(options=[1, 2], value=1, description='Embarked:')\n",
    "\n",
    "predict_button = widgets.Button(description=\"PREDICT\", \n",
    "                                style={'button_color': '#3498db'},\n",
    "                              layout=widgets.Layout(width='200px', height='40px'))\n",
    "output_area = widgets.Output(layout={'border': '1px solid blue'})\n",
    "\n",
    "# 3. CLICK HANDLER WITH ERROR CHECKING\n",
    "def on_predict_click(b):\n",
    "    # First verify the model exists\n",
    "    try:\n",
    "        if 'model' not in globals():\n",
    "            raise NameError(\"No 'model' found - train your model first!\")\n",
    "        \n",
    "        predict_survival(\n",
    "            pclass.value,\n",
    "            sex.value,\n",
    "            age.value,\n",
    "            sibsp.value,\n",
    "            parch.value,\n",
    "            fare.value,\n",
    "            embarked.value\n",
    "        )\n",
    "    except Exception as e:\n",
    "        with output_area:\n",
    "            output_area.clear_output()\n",
    "            print(f\" CRITICAL ERROR: {str(e)}\")\n",
    "            print(\"1. Have you trained your model?\")\n",
    "            print(\"2. Does it expect these features?\")\n",
    "            print(\"['PassengerId', 'Pclass', 'Sex', 'Age', 'SibSp', 'Parch', 'Fare', 'Embarked', 'Sex_Pclass']\")\n",
    "\n",
    "predict_button.on_click(on_predict_click)\n",
    "\n",
    "# 4. DISPLAY \n",
    "display(widgets.VBox([\n",
    "    widgets.Label(\"🎯 TITANIC SURVIVAL PREDICTOR\"),\n",
    "    widgets.HTML(\"<i>Adjust values then click PREDICT</i>\"),\n",
    "    widgets.GridBox(\n",
    "        children=[pclass, sex, age, sibsp, parch, fare, embarked],\n",
    "        layout=widgets.Layout(\n",
    "            grid_template_columns=\"repeat(2, 300px)\",\n",
    "            grid_gap=\"10px\"\n",
    "        )\n",
    "    ),\n",
    "    widgets.HBox([predict_button], layout=widgets.Layout(justify_content='center')),\n",
    "    output_area\n",
    "]))"
   ]
  },
  {
   "cell_type": "markdown",
   "id": "6b2a55b0-6492-46a5-97c6-4f319f586cbb",
   "metadata": {},
   "source": [
    "I had fun building this and see it as a stepping stone in my data science journey!\n",
    "<hr style=\"border:1px solid gray\">\n",
    "\n",
    "<p style=\"text-align: center; color: gray; font-size: 0.9rem;\">\n",
    "© 2025 Mekolle Ashley. All Rights Reserved.<br>\n",
    "Contact: <a href=\"mailto:mekolleashleyam@gmail.com\">mekolleashleyam@gmail.com</a>\n",
    "</p>"
   ]
  },
  {
   "cell_type": "code",
   "execution_count": null,
   "id": "2aa2fa21-3929-41b4-9976-7fe12d1d430c",
   "metadata": {},
   "outputs": [],
   "source": []
  }
 ],
 "metadata": {
  "kernelspec": {
   "display_name": "Python 3 (ipykernel)",
   "language": "python",
   "name": "python3"
  },
  "language_info": {
   "codemirror_mode": {
    "name": "ipython",
    "version": 3
   },
   "file_extension": ".py",
   "mimetype": "text/x-python",
   "name": "python",
   "nbconvert_exporter": "python",
   "pygments_lexer": "ipython3",
   "version": "3.11.5"
  }
 },
 "nbformat": 4,
 "nbformat_minor": 5
}
